{
 "cells": [
  {
   "cell_type": "markdown",
   "id": "142bd371",
   "metadata": {},
   "source": [
    "# Intro"
   ]
  },
  {
   "cell_type": "code",
   "execution_count": 2,
   "id": "d943348f",
   "metadata": {},
   "outputs": [
    {
     "data": {
      "text/plain": [
       "5"
      ]
     },
     "execution_count": 2,
     "metadata": {},
     "output_type": "execute_result"
    }
   ],
   "source": [
    "2 + 3 #this is a comment"
   ]
  },
  {
   "cell_type": "code",
   "execution_count": 3,
   "id": "e80017fd",
   "metadata": {},
   "outputs": [
    {
     "data": {
      "text/plain": [
       "False"
      ]
     },
     "execution_count": 3,
     "metadata": {},
     "output_type": "execute_result"
    }
   ],
   "source": [
    "5 > 7"
   ]
  },
  {
   "cell_type": "code",
   "execution_count": 7,
   "id": "6bdcb069",
   "metadata": {},
   "outputs": [
    {
     "data": {
      "text/plain": [
       "True"
      ]
     },
     "execution_count": 7,
     "metadata": {},
     "output_type": "execute_result"
    }
   ],
   "source": [
    "5 < 10"
   ]
  },
  {
   "cell_type": "code",
   "execution_count": 6,
   "id": "ed83dd7c",
   "metadata": {},
   "outputs": [
    {
     "data": {
      "text/plain": [
       "'racecar'"
      ]
     },
     "execution_count": 6,
     "metadata": {},
     "output_type": "execute_result"
    }
   ],
   "source": [
    "#concatenation\n",
    "\"race\"+\"car\""
   ]
  },
  {
   "cell_type": "code",
   "execution_count": 7,
   "id": "32332cc8",
   "metadata": {},
   "outputs": [
    {
     "data": {
      "text/plain": [
       "'WKWKWK'"
      ]
     },
     "execution_count": 7,
     "metadata": {},
     "output_type": "execute_result"
    }
   ],
   "source": [
    "\"WK\" * 3"
   ]
  },
  {
   "cell_type": "code",
   "execution_count": 13,
   "id": "342d46d0",
   "metadata": {},
   "outputs": [
    {
     "data": {
      "text/plain": [
       "4.545454545454545"
      ]
     },
     "execution_count": 13,
     "metadata": {},
     "output_type": "execute_result"
    }
   ],
   "source": [
    "10/2.2"
   ]
  },
  {
   "cell_type": "code",
   "execution_count": 15,
   "id": "7817bbd9",
   "metadata": {},
   "outputs": [
    {
     "data": {
      "text/plain": [
       "4.0"
      ]
     },
     "execution_count": 15,
     "metadata": {},
     "output_type": "execute_result"
    }
   ],
   "source": [
    "#cut off(not round)\n",
    "10//2.2"
   ]
  },
  {
   "cell_type": "code",
   "execution_count": 18,
   "id": "29be7b93",
   "metadata": {},
   "outputs": [
    {
     "data": {
      "text/plain": [
       "2"
      ]
     },
     "execution_count": 18,
     "metadata": {},
     "output_type": "execute_result"
    }
   ],
   "source": [
    "#mod\n",
    "14 % 3"
   ]
  },
  {
   "cell_type": "code",
   "execution_count": 22,
   "id": "ca4fb74c",
   "metadata": {},
   "outputs": [
    {
     "data": {
      "text/plain": [
       "False"
      ]
     },
     "execution_count": 22,
     "metadata": {},
     "output_type": "execute_result"
    }
   ],
   "source": [
    "#Equality Operator\n",
    "1 == 1 \n",
    "\"galah\" == \"Galah\""
   ]
  },
  {
   "cell_type": "code",
   "execution_count": 24,
   "id": "cdd061ac",
   "metadata": {},
   "outputs": [
    {
     "data": {
      "text/plain": [
       "True"
      ]
     },
     "execution_count": 24,
     "metadata": {},
     "output_type": "execute_result"
    }
   ],
   "source": [
    "#Inequality\n",
    "\n",
    "\"galah\" != \"Galah\""
   ]
  },
  {
   "cell_type": "code",
   "execution_count": 26,
   "id": "2f90039a",
   "metadata": {},
   "outputs": [
    {
     "data": {
      "text/plain": [
       "25"
      ]
     },
     "execution_count": 26,
     "metadata": {},
     "output_type": "execute_result"
    }
   ],
   "source": [
    "#variables\n",
    "age = 20\n",
    "age + 5"
   ]
  },
  {
   "cell_type": "code",
   "execution_count": 3,
   "id": "91198c42",
   "metadata": {},
   "outputs": [],
   "source": [
    "price = 19.99\n",
    "first_name = \"felix\" #snake_case\n",
    "profession = \"Software Engineer\"\n",
    "is_handsome = True"
   ]
  },
  {
   "cell_type": "code",
   "execution_count": 4,
   "id": "6539d8c6",
   "metadata": {},
   "outputs": [
    {
     "data": {
      "text/plain": [
       "'felix'"
      ]
     },
     "execution_count": 4,
     "metadata": {},
     "output_type": "execute_result"
    }
   ],
   "source": [
    "first_name"
   ]
  },
  {
   "cell_type": "code",
   "execution_count": 5,
   "id": "f8ed7a4d",
   "metadata": {},
   "outputs": [
    {
     "data": {
      "text/plain": [
       "'felix keren'"
      ]
     },
     "execution_count": 5,
     "metadata": {},
     "output_type": "execute_result"
    }
   ],
   "source": [
    "first_name + \" keren\""
   ]
  },
  {
   "cell_type": "code",
   "execution_count": 34,
   "id": "49518b4d",
   "metadata": {},
   "outputs": [
    {
     "data": {
      "text/plain": [
       "35"
      ]
     },
     "execution_count": 34,
     "metadata": {},
     "output_type": "execute_result"
    }
   ],
   "source": [
    "#age = 30\n",
    "\n",
    "age = age + 5\n",
    "age "
   ]
  },
  {
   "cell_type": "markdown",
   "id": "b22da01e",
   "metadata": {},
   "source": [
    "# Functions"
   ]
  },
  {
   "cell_type": "code",
   "execution_count": 35,
   "id": "8ca18989",
   "metadata": {},
   "outputs": [
    {
     "data": {
      "text/plain": [
       "36"
      ]
     },
     "execution_count": 35,
     "metadata": {},
     "output_type": "execute_result"
    }
   ],
   "source": [
    "len(\"How many characthers do we have here\")"
   ]
  },
  {
   "cell_type": "code",
   "execution_count": 36,
   "id": "2781005e",
   "metadata": {},
   "outputs": [
    {
     "data": {
      "text/plain": [
       "'3.14'"
      ]
     },
     "execution_count": 36,
     "metadata": {},
     "output_type": "execute_result"
    }
   ],
   "source": [
    "str(3.14)"
   ]
  },
  {
   "cell_type": "code",
   "execution_count": 37,
   "id": "01b88737",
   "metadata": {},
   "outputs": [
    {
     "data": {
      "text/plain": [
       "3.121231"
      ]
     },
     "execution_count": 37,
     "metadata": {},
     "output_type": "execute_result"
    }
   ],
   "source": [
    "float(\"3.121231\")"
   ]
  },
  {
   "cell_type": "code",
   "execution_count": 38,
   "id": "2383add5",
   "metadata": {},
   "outputs": [
    {
     "data": {
      "text/plain": [
       "int"
      ]
     },
     "execution_count": 38,
     "metadata": {},
     "output_type": "execute_result"
    }
   ],
   "source": [
    "type(5)"
   ]
  },
  {
   "cell_type": "code",
   "execution_count": 39,
   "id": "a3c176c5",
   "metadata": {},
   "outputs": [
    {
     "data": {
      "text/plain": [
       "True"
      ]
     },
     "execution_count": 39,
     "metadata": {},
     "output_type": "execute_result"
    }
   ],
   "source": [
    "type(10) == type (15)"
   ]
  },
  {
   "cell_type": "code",
   "execution_count": 40,
   "id": "9b746b6e",
   "metadata": {},
   "outputs": [
    {
     "data": {
      "text/plain": [
       "False"
      ]
     },
     "execution_count": 40,
     "metadata": {},
     "output_type": "execute_result"
    }
   ],
   "source": [
    "type(10) == type(\"10\")"
   ]
  },
  {
   "cell_type": "markdown",
   "id": "fda9ad72",
   "metadata": {},
   "source": [
    "# Custom Functions"
   ]
  },
  {
   "cell_type": "code",
   "execution_count": 1,
   "id": "ab5e6576",
   "metadata": {},
   "outputs": [],
   "source": [
    "def rupiah_to_dollar(rupiah):\n",
    "    product = rupiah * 0.000070\n",
    "    return product"
   ]
  },
  {
   "cell_type": "code",
   "execution_count": 2,
   "id": "d11aaba7",
   "metadata": {},
   "outputs": [
    {
     "data": {
      "text/plain": [
       "13.999999999999998"
      ]
     },
     "execution_count": 2,
     "metadata": {},
     "output_type": "execute_result"
    }
   ],
   "source": [
    "rupiah_to_dollar(200000)"
   ]
  },
  {
   "cell_type": "code",
   "execution_count": 42,
   "id": "4c10163f",
   "metadata": {},
   "outputs": [],
   "source": [
    "\n",
    "\n",
    "#Declare a function that accepts a temperature in Celcius and returns it in Fahrenheit\n",
    "\n",
    "def convert_to_fahrenheit(celcius_temp):\n",
    "    product = celcius_temp * 1.8\n",
    "    return product + 32"
   ]
  },
  {
   "cell_type": "code",
   "execution_count": 43,
   "id": "e3053d44",
   "metadata": {},
   "outputs": [
    {
     "data": {
      "text/plain": [
       "32.0"
      ]
     },
     "execution_count": 43,
     "metadata": {},
     "output_type": "execute_result"
    }
   ],
   "source": [
    "convert_to_fahrenheit(0)"
   ]
  },
  {
   "cell_type": "code",
   "execution_count": 44,
   "id": "d16da81e",
   "metadata": {},
   "outputs": [
    {
     "data": {
      "text/plain": [
       "57.2"
      ]
     },
     "execution_count": 44,
     "metadata": {},
     "output_type": "execute_result"
    }
   ],
   "source": [
    "convert_to_fahrenheit(14)"
   ]
  },
  {
   "cell_type": "code",
   "execution_count": 45,
   "id": "a9a8ce65",
   "metadata": {},
   "outputs": [
    {
     "data": {
      "text/plain": [
       "57.2"
      ]
     },
     "execution_count": 45,
     "metadata": {},
     "output_type": "execute_result"
    }
   ],
   "source": [
    "convert_to_fahrenheit(celcius_temp=14) #useful for multiple parameters"
   ]
  },
  {
   "cell_type": "code",
   "execution_count": 46,
   "id": "129c5e31",
   "metadata": {},
   "outputs": [],
   "source": [
    "#deafult arguments\n",
    "def convert_to_fahrenheit(celcius_temp = 0):\n",
    "    product = celcius_temp * 1.8\n",
    "    return product + 32"
   ]
  },
  {
   "cell_type": "code",
   "execution_count": 47,
   "id": "6ccad0c1",
   "metadata": {},
   "outputs": [
    {
     "data": {
      "text/plain": [
       "57.2"
      ]
     },
     "execution_count": 47,
     "metadata": {},
     "output_type": "execute_result"
    }
   ],
   "source": [
    "convert_to_fahrenheit(14)"
   ]
  },
  {
   "cell_type": "code",
   "execution_count": 48,
   "id": "87d44e98",
   "metadata": {},
   "outputs": [
    {
     "data": {
      "text/plain": [
       "32.0"
      ]
     },
     "execution_count": 48,
     "metadata": {},
     "output_type": "execute_result"
    }
   ],
   "source": [
    "convert_to_fahrenheit()"
   ]
  },
  {
   "cell_type": "markdown",
   "id": "39b2678a",
   "metadata": {},
   "source": [
    "# String Methods"
   ]
  },
  {
   "cell_type": "code",
   "execution_count": 1,
   "id": "9645c194",
   "metadata": {},
   "outputs": [],
   "source": [
    "profession = \"Developer\""
   ]
  },
  {
   "cell_type": "code",
   "execution_count": 3,
   "id": "7ac6f56f",
   "metadata": {},
   "outputs": [
    {
     "data": {
      "text/plain": [
       "'DEVELOPER'"
      ]
     },
     "execution_count": 3,
     "metadata": {},
     "output_type": "execute_result"
    }
   ],
   "source": [
    "profession.upper()"
   ]
  },
  {
   "cell_type": "code",
   "execution_count": 4,
   "id": "a0b5418e",
   "metadata": {},
   "outputs": [
    {
     "data": {
      "text/plain": [
       "'DEVELOPER'"
      ]
     },
     "execution_count": 4,
     "metadata": {},
     "output_type": "execute_result"
    }
   ],
   "source": [
    "\"developer\".upper()"
   ]
  },
  {
   "cell_type": "code",
   "execution_count": 5,
   "id": "33848152",
   "metadata": {},
   "outputs": [
    {
     "data": {
      "text/plain": [
       "'developer'"
      ]
     },
     "execution_count": 5,
     "metadata": {},
     "output_type": "execute_result"
    }
   ],
   "source": [
    "profession.lower()"
   ]
  },
  {
   "cell_type": "code",
   "execution_count": 6,
   "id": "6612b8c3",
   "metadata": {},
   "outputs": [
    {
     "data": {
      "text/plain": [
       "'dEVELOPER'"
      ]
     },
     "execution_count": 6,
     "metadata": {},
     "output_type": "execute_result"
    }
   ],
   "source": [
    "profession.swapcase()"
   ]
  },
  {
   "cell_type": "code",
   "execution_count": 9,
   "id": "0ef3f45c",
   "metadata": {},
   "outputs": [
    {
     "data": {
      "text/plain": [
       "'Developer'"
      ]
     },
     "execution_count": 9,
     "metadata": {},
     "output_type": "execute_result"
    }
   ],
   "source": [
    "#string is immutable = incapable of change\n",
    "profession"
   ]
  },
  {
   "cell_type": "code",
   "execution_count": 10,
   "id": "c0488955",
   "metadata": {},
   "outputs": [
    {
     "data": {
      "text/plain": [
       "'Once Upon A Time'"
      ]
     },
     "execution_count": 10,
     "metadata": {},
     "output_type": "execute_result"
    }
   ],
   "source": [
    "\"once upon a time\".title() #capital in every first letter"
   ]
  },
  {
   "cell_type": "code",
   "execution_count": 11,
   "id": "544df6fc",
   "metadata": {},
   "outputs": [
    {
     "data": {
      "text/plain": [
       "'Once upon a time'"
      ]
     },
     "execution_count": 11,
     "metadata": {},
     "output_type": "execute_result"
    }
   ],
   "source": [
    "\"once upon a time\".capitalize() #capital in very first letter"
   ]
  },
  {
   "cell_type": "code",
   "execution_count": 12,
   "id": "3f33bc46",
   "metadata": {},
   "outputs": [],
   "source": [
    "profession = \"          Developer         \""
   ]
  },
  {
   "cell_type": "code",
   "execution_count": 14,
   "id": "8e6a974a",
   "metadata": {},
   "outputs": [
    {
     "data": {
      "text/plain": [
       "'Developer'"
      ]
     },
     "execution_count": 14,
     "metadata": {},
     "output_type": "execute_result"
    }
   ],
   "source": [
    "profession.lstrip().rstrip()\n",
    "profession.strip()"
   ]
  },
  {
   "cell_type": "code",
   "execution_count": 15,
   "id": "85155358",
   "metadata": {},
   "outputs": [
    {
     "data": {
      "text/plain": [
       "'          Davalopar         '"
      ]
     },
     "execution_count": 15,
     "metadata": {},
     "output_type": "execute_result"
    }
   ],
   "source": [
    "profession.replace(\"e\",\"a\")"
   ]
  },
  {
   "cell_type": "code",
   "execution_count": 16,
   "id": "8af1b42a",
   "metadata": {},
   "outputs": [
    {
     "data": {
      "text/plain": [
       "'Davalopar'"
      ]
     },
     "execution_count": 16,
     "metadata": {},
     "output_type": "execute_result"
    }
   ],
   "source": [
    "profession.replace(\"e\",\"a\").strip()"
   ]
  },
  {
   "cell_type": "code",
   "execution_count": 17,
   "id": "5a73069b",
   "metadata": {},
   "outputs": [],
   "source": [
    "animal = \"rhinoceros\""
   ]
  },
  {
   "cell_type": "code",
   "execution_count": 19,
   "id": "dbc664fc",
   "metadata": {},
   "outputs": [
    {
     "data": {
      "text/plain": [
       "True"
      ]
     },
     "execution_count": 19,
     "metadata": {},
     "output_type": "execute_result"
    }
   ],
   "source": [
    "animal.startswith(\"rhino\")"
   ]
  },
  {
   "cell_type": "code",
   "execution_count": 21,
   "id": "d9ff147d",
   "metadata": {},
   "outputs": [
    {
     "data": {
      "text/plain": [
       "False"
      ]
     },
     "execution_count": 21,
     "metadata": {},
     "output_type": "execute_result"
    }
   ],
   "source": [
    "animal.startswith(\"Rhino\")"
   ]
  },
  {
   "cell_type": "code",
   "execution_count": 23,
   "id": "83f77b55",
   "metadata": {},
   "outputs": [
    {
     "data": {
      "text/plain": [
       "True"
      ]
     },
     "execution_count": 23,
     "metadata": {},
     "output_type": "execute_result"
    }
   ],
   "source": [
    "animal.endswith(\"ros\")"
   ]
  },
  {
   "cell_type": "code",
   "execution_count": 24,
   "id": "f3835d7f",
   "metadata": {},
   "outputs": [
    {
     "data": {
      "text/plain": [
       "True"
      ]
     },
     "execution_count": 24,
     "metadata": {},
     "output_type": "execute_result"
    }
   ],
   "source": [
    "\"ino\" in animal"
   ]
  },
  {
   "cell_type": "code",
   "execution_count": 25,
   "id": "03ecdfe0",
   "metadata": {},
   "outputs": [
    {
     "data": {
      "text/plain": [
       "True"
      ]
     },
     "execution_count": 25,
     "metadata": {},
     "output_type": "execute_result"
    }
   ],
   "source": [
    "\"z\" not in animal"
   ]
  },
  {
   "cell_type": "markdown",
   "id": "89e4638f",
   "metadata": {},
   "source": [
    "# Lists"
   ]
  },
  {
   "cell_type": "code",
   "execution_count": 1,
   "id": "b0f9a1a2",
   "metadata": {},
   "outputs": [],
   "source": [
    "#Mutable data structure that holds an ordered collection of elements"
   ]
  },
  {
   "cell_type": "code",
   "execution_count": 2,
   "id": "a8702d10",
   "metadata": {},
   "outputs": [
    {
     "data": {
      "text/plain": [
       "[1, 2, 3, 4]"
      ]
     },
     "execution_count": 2,
     "metadata": {},
     "output_type": "execute_result"
    }
   ],
   "source": [
    "[1, 2, 3, 4]"
   ]
  },
  {
   "cell_type": "code",
   "execution_count": 3,
   "id": "15bbb4e8",
   "metadata": {},
   "outputs": [
    {
     "data": {
      "text/plain": [
       "[True, False, False, True]"
      ]
     },
     "execution_count": 3,
     "metadata": {},
     "output_type": "execute_result"
    }
   ],
   "source": [
    "[True, False, False, True]"
   ]
  },
  {
   "cell_type": "code",
   "execution_count": 4,
   "id": "712acbbc",
   "metadata": {},
   "outputs": [],
   "source": [
    "party_atandees = [\"Shiori\", \"Kazumi\", \"Asuka\"]"
   ]
  },
  {
   "cell_type": "code",
   "execution_count": 5,
   "id": "00660376",
   "metadata": {},
   "outputs": [
    {
     "data": {
      "text/plain": [
       "['Shiori', 'Kazumi', 'Asuka']"
      ]
     },
     "execution_count": 5,
     "metadata": {},
     "output_type": "execute_result"
    }
   ],
   "source": [
    "party_atandees"
   ]
  },
  {
   "cell_type": "code",
   "execution_count": 6,
   "id": "2e393555",
   "metadata": {},
   "outputs": [
    {
     "data": {
      "text/plain": [
       "[]"
      ]
     },
     "execution_count": 6,
     "metadata": {},
     "output_type": "execute_result"
    }
   ],
   "source": [
    "[] #empty list"
   ]
  },
  {
   "cell_type": "code",
   "execution_count": 7,
   "id": "c11a4920",
   "metadata": {},
   "outputs": [
    {
     "data": {
      "text/plain": [
       "3"
      ]
     },
     "execution_count": 7,
     "metadata": {},
     "output_type": "execute_result"
    }
   ],
   "source": [
    "len(party_atandees)"
   ]
  },
  {
   "cell_type": "code",
   "execution_count": 8,
   "id": "1b7f32d2",
   "metadata": {},
   "outputs": [
    {
     "data": {
      "text/plain": [
       "list"
      ]
     },
     "execution_count": 8,
     "metadata": {},
     "output_type": "execute_result"
    }
   ],
   "source": [
    "type(party_atandees)"
   ]
  },
  {
   "cell_type": "code",
   "execution_count": 9,
   "id": "5754a741",
   "metadata": {},
   "outputs": [],
   "source": [
    "presidents = [\"Washington\",\"Jefferson\"]"
   ]
  },
  {
   "cell_type": "code",
   "execution_count": 10,
   "id": "1a4cf812",
   "metadata": {},
   "outputs": [],
   "source": [
    "presidents.append(\"Jokowi\")"
   ]
  },
  {
   "cell_type": "code",
   "execution_count": 11,
   "id": "9f9ab514",
   "metadata": {},
   "outputs": [
    {
     "data": {
      "text/plain": [
       "['Washington', 'Jefferson', 'Jokowi']"
      ]
     },
     "execution_count": 11,
     "metadata": {},
     "output_type": "execute_result"
    }
   ],
   "source": [
    "presidents"
   ]
  },
  {
   "cell_type": "code",
   "execution_count": 12,
   "id": "52ac9694",
   "metadata": {},
   "outputs": [
    {
     "data": {
      "text/plain": [
       "['Salted', 'Unsalted', 'Caramel']"
      ]
     },
     "execution_count": 12,
     "metadata": {},
     "output_type": "execute_result"
    }
   ],
   "source": [
    "popcorn = [\"Salted\",\"Unsalted\",\"Caramel\"]\n",
    "popcorn"
   ]
  },
  {
   "cell_type": "code",
   "execution_count": 13,
   "id": "ec347af5",
   "metadata": {},
   "outputs": [
    {
     "data": {
      "text/plain": [
       "'Caramel'"
      ]
     },
     "execution_count": 13,
     "metadata": {},
     "output_type": "execute_result"
    }
   ],
   "source": [
    "popcorn.pop()"
   ]
  },
  {
   "cell_type": "code",
   "execution_count": 14,
   "id": "980a9d3c",
   "metadata": {},
   "outputs": [
    {
     "data": {
      "text/plain": [
       "['Salted', 'Unsalted']"
      ]
     },
     "execution_count": 14,
     "metadata": {},
     "output_type": "execute_result"
    }
   ],
   "source": [
    "popcorn"
   ]
  },
  {
   "cell_type": "code",
   "execution_count": 15,
   "id": "83746145",
   "metadata": {},
   "outputs": [],
   "source": [
    "popcorn.remove(\"Salted\")"
   ]
  },
  {
   "cell_type": "code",
   "execution_count": 16,
   "id": "b98fd851",
   "metadata": {},
   "outputs": [
    {
     "data": {
      "text/plain": [
       "['Unsalted']"
      ]
     },
     "execution_count": 16,
     "metadata": {},
     "output_type": "execute_result"
    }
   ],
   "source": [
    "popcorn"
   ]
  },
  {
   "cell_type": "code",
   "execution_count": 17,
   "id": "2fbe2e7a",
   "metadata": {},
   "outputs": [
    {
     "data": {
      "text/plain": [
       "True"
      ]
     },
     "execution_count": 17,
     "metadata": {},
     "output_type": "execute_result"
    }
   ],
   "source": [
    "\"shi\" in \"shiorin\""
   ]
  },
  {
   "cell_type": "code",
   "execution_count": 18,
   "id": "f8b15633",
   "metadata": {},
   "outputs": [],
   "source": [
    "planets = [\"Earth\", \"Venus\", \"Mars\"]"
   ]
  },
  {
   "cell_type": "code",
   "execution_count": 19,
   "id": "35a44853",
   "metadata": {},
   "outputs": [
    {
     "data": {
      "text/plain": [
       "True"
      ]
     },
     "execution_count": 19,
     "metadata": {},
     "output_type": "execute_result"
    }
   ],
   "source": [
    "\"Earth\" in planets"
   ]
  },
  {
   "cell_type": "code",
   "execution_count": 20,
   "id": "631606d1",
   "metadata": {},
   "outputs": [
    {
     "data": {
      "text/plain": [
       "False"
      ]
     },
     "execution_count": 20,
     "metadata": {},
     "output_type": "execute_result"
    }
   ],
   "source": [
    "\"earth\" in planets"
   ]
  },
  {
   "cell_type": "code",
   "execution_count": 22,
   "id": "300f51e3",
   "metadata": {},
   "outputs": [
    {
     "data": {
      "text/plain": [
       "False"
      ]
     },
     "execution_count": 22,
     "metadata": {},
     "output_type": "execute_result"
    }
   ],
   "source": [
    "\"Mars\" not in planets"
   ]
  },
  {
   "cell_type": "markdown",
   "id": "8b2a06fa",
   "metadata": {},
   "source": [
    "# Index Positions and Slicing"
   ]
  },
  {
   "cell_type": "code",
   "execution_count": 23,
   "id": "87841b08",
   "metadata": {},
   "outputs": [],
   "source": [
    "spiderman = \"Spiderman\""
   ]
  },
  {
   "cell_type": "code",
   "execution_count": 24,
   "id": "7b0ffcff",
   "metadata": {},
   "outputs": [
    {
     "data": {
      "text/plain": [
       "'S'"
      ]
     },
     "execution_count": 24,
     "metadata": {},
     "output_type": "execute_result"
    }
   ],
   "source": [
    "spiderman[0]"
   ]
  },
  {
   "cell_type": "code",
   "execution_count": 25,
   "id": "1f575022",
   "metadata": {},
   "outputs": [
    {
     "data": {
      "text/plain": [
       "'n'"
      ]
     },
     "execution_count": 25,
     "metadata": {},
     "output_type": "execute_result"
    }
   ],
   "source": [
    "spiderman[-1]"
   ]
  },
  {
   "cell_type": "code",
   "execution_count": 26,
   "id": "13597e65",
   "metadata": {},
   "outputs": [],
   "source": [
    "superheroes = [\"Batman\", \"Superman\", \"Ironman\", \"Wolverine\", \"Arnold\"]"
   ]
  },
  {
   "cell_type": "code",
   "execution_count": 27,
   "id": "b336d06f",
   "metadata": {},
   "outputs": [
    {
     "data": {
      "text/plain": [
       "5"
      ]
     },
     "execution_count": 27,
     "metadata": {},
     "output_type": "execute_result"
    }
   ],
   "source": [
    "len(superheroes)"
   ]
  },
  {
   "cell_type": "code",
   "execution_count": 28,
   "id": "6e19f535",
   "metadata": {},
   "outputs": [
    {
     "data": {
      "text/plain": [
       "'Arnold'"
      ]
     },
     "execution_count": 28,
     "metadata": {},
     "output_type": "execute_result"
    }
   ],
   "source": [
    "superheroes[4]"
   ]
  },
  {
   "cell_type": "code",
   "execution_count": 30,
   "id": "2cbd4f29",
   "metadata": {},
   "outputs": [
    {
     "data": {
      "text/plain": [
       "['Superman', 'Ironman']"
      ]
     },
     "execution_count": 30,
     "metadata": {},
     "output_type": "execute_result"
    }
   ],
   "source": [
    "superheroes[1:3] #3 not included"
   ]
  },
  {
   "cell_type": "code",
   "execution_count": 31,
   "id": "1f6de157",
   "metadata": {},
   "outputs": [
    {
     "data": {
      "text/plain": [
       "'pide'"
      ]
     },
     "execution_count": 31,
     "metadata": {},
     "output_type": "execute_result"
    }
   ],
   "source": [
    "spiderman[1:5]"
   ]
  },
  {
   "cell_type": "code",
   "execution_count": 37,
   "id": "5b9a3233",
   "metadata": {},
   "outputs": [
    {
     "data": {
      "text/plain": [
       "['Batman', 'Superman']"
      ]
     },
     "execution_count": 37,
     "metadata": {},
     "output_type": "execute_result"
    }
   ],
   "source": [
    "#if start at the first\n",
    "superheroes[0:2]\n",
    "#equals\n",
    "superheroes[:2]"
   ]
  },
  {
   "cell_type": "code",
   "execution_count": 36,
   "id": "fbd3dce5",
   "metadata": {},
   "outputs": [
    {
     "data": {
      "text/plain": [
       "['Ironman', 'Wolverine', 'Arnold']"
      ]
     },
     "execution_count": 36,
     "metadata": {},
     "output_type": "execute_result"
    }
   ],
   "source": [
    "#if end at the last\n",
    "superheroes[2:5]\n",
    "#equals\n",
    "superheroes[2:]"
   ]
  },
  {
   "cell_type": "code",
   "execution_count": 38,
   "id": "77ae8268",
   "metadata": {},
   "outputs": [
    {
     "data": {
      "text/plain": [
       "'rman'"
      ]
     },
     "execution_count": 38,
     "metadata": {},
     "output_type": "execute_result"
    }
   ],
   "source": [
    "spiderman[5:]"
   ]
  },
  {
   "cell_type": "code",
   "execution_count": 39,
   "id": "60060503",
   "metadata": {},
   "outputs": [
    {
     "data": {
      "text/plain": [
       "'derm'"
      ]
     },
     "execution_count": 39,
     "metadata": {},
     "output_type": "execute_result"
    }
   ],
   "source": [
    "spiderman [3:-2]"
   ]
  },
  {
   "cell_type": "markdown",
   "id": "6e63e399",
   "metadata": {},
   "source": [
    "# Dictionaries"
   ]
  },
  {
   "cell_type": "code",
   "execution_count": 40,
   "id": "1715b1cd",
   "metadata": {},
   "outputs": [],
   "source": [
    "#An unordered collection of key-value pairs\n",
    "#Also Mutable\n",
    "#Key must be uniuqe"
   ]
  },
  {
   "cell_type": "code",
   "execution_count": 42,
   "id": "a38f7313",
   "metadata": {},
   "outputs": [],
   "source": [
    "# Burger (Key) - Rp. 200.000 (Value)\n",
    "menu = {\n",
    "    \"Fillet Mignon\": 29.99,\n",
    "    \"Chicken Katsu\": 30.00,\n",
    "    \"Pizza\": 19.00,\n",
    "    \"Salmon\": 19.00\n",
    "}"
   ]
  },
  {
   "cell_type": "code",
   "execution_count": 43,
   "id": "488ed533",
   "metadata": {},
   "outputs": [
    {
     "data": {
      "text/plain": [
       "{'Fillet Mignon': 29.99, 'Chicken Katsu': 30.0, 'Pizza': 19.0, 'Salmon': 19.0}"
      ]
     },
     "execution_count": 43,
     "metadata": {},
     "output_type": "execute_result"
    }
   ],
   "source": [
    "menu"
   ]
  },
  {
   "cell_type": "code",
   "execution_count": 44,
   "id": "3af597cb",
   "metadata": {},
   "outputs": [
    {
     "data": {
      "text/plain": [
       "4"
      ]
     },
     "execution_count": 44,
     "metadata": {},
     "output_type": "execute_result"
    }
   ],
   "source": [
    "len(menu)"
   ]
  },
  {
   "cell_type": "code",
   "execution_count": 46,
   "id": "de797443",
   "metadata": {},
   "outputs": [
    {
     "data": {
      "text/plain": [
       "30.0"
      ]
     },
     "execution_count": 46,
     "metadata": {},
     "output_type": "execute_result"
    }
   ],
   "source": [
    "menu[\"Chicken Katsu\"]"
   ]
  },
  {
   "cell_type": "code",
   "execution_count": 47,
   "id": "1b57957d",
   "metadata": {},
   "outputs": [],
   "source": [
    "menu[\"Nasi Goreng\"] = 14.00"
   ]
  },
  {
   "cell_type": "code",
   "execution_count": 48,
   "id": "7388d6d3",
   "metadata": {},
   "outputs": [
    {
     "data": {
      "text/plain": [
       "{'Fillet Mignon': 29.99,\n",
       " 'Chicken Katsu': 30.0,\n",
       " 'Pizza': 19.0,\n",
       " 'Salmon': 19.0,\n",
       " 'Nasi Goreng': 14.0}"
      ]
     },
     "execution_count": 48,
     "metadata": {},
     "output_type": "execute_result"
    }
   ],
   "source": [
    "menu"
   ]
  },
  {
   "cell_type": "code",
   "execution_count": 49,
   "id": "426837ce",
   "metadata": {},
   "outputs": [],
   "source": [
    "#overwrite\n",
    "menu[\"Chicken Katsu\"] = 25.99"
   ]
  },
  {
   "cell_type": "code",
   "execution_count": 50,
   "id": "b458118c",
   "metadata": {},
   "outputs": [
    {
     "data": {
      "text/plain": [
       "{'Fillet Mignon': 29.99,\n",
       " 'Chicken Katsu': 25.99,\n",
       " 'Pizza': 19.0,\n",
       " 'Salmon': 19.0,\n",
       " 'Nasi Goreng': 14.0}"
      ]
     },
     "execution_count": 50,
     "metadata": {},
     "output_type": "execute_result"
    }
   ],
   "source": [
    "menu"
   ]
  },
  {
   "cell_type": "code",
   "execution_count": 52,
   "id": "35c9f80a",
   "metadata": {},
   "outputs": [
    {
     "data": {
      "text/plain": [
       "29.99"
      ]
     },
     "execution_count": 52,
     "metadata": {},
     "output_type": "execute_result"
    }
   ],
   "source": [
    "#pop/delete\n",
    "menu.pop(\"Fillet Mignon\")"
   ]
  },
  {
   "cell_type": "code",
   "execution_count": 53,
   "id": "8709cc0b",
   "metadata": {},
   "outputs": [
    {
     "data": {
      "text/plain": [
       "{'Chicken Katsu': 25.99, 'Pizza': 19.0, 'Salmon': 19.0, 'Nasi Goreng': 14.0}"
      ]
     },
     "execution_count": 53,
     "metadata": {},
     "output_type": "execute_result"
    }
   ],
   "source": [
    "menu"
   ]
  },
  {
   "cell_type": "code",
   "execution_count": 54,
   "id": "48e66492",
   "metadata": {},
   "outputs": [
    {
     "data": {
      "text/plain": [
       "True"
      ]
     },
     "execution_count": 54,
     "metadata": {},
     "output_type": "execute_result"
    }
   ],
   "source": [
    "\"Chicken Katsu\" in menu"
   ]
  },
  {
   "cell_type": "code",
   "execution_count": 55,
   "id": "1e457f37",
   "metadata": {},
   "outputs": [
    {
     "data": {
      "text/plain": [
       "False"
      ]
     },
     "execution_count": 55,
     "metadata": {},
     "output_type": "execute_result"
    }
   ],
   "source": [
    "14.0 in menu"
   ]
  },
  {
   "cell_type": "code",
   "execution_count": 56,
   "id": "c553fc97",
   "metadata": {},
   "outputs": [
    {
     "data": {
      "text/plain": [
       "dict_values([25.99, 19.0, 19.0, 14.0])"
      ]
     },
     "execution_count": 56,
     "metadata": {},
     "output_type": "execute_result"
    }
   ],
   "source": [
    "menu.values()"
   ]
  },
  {
   "cell_type": "code",
   "execution_count": 57,
   "id": "7f735418",
   "metadata": {},
   "outputs": [
    {
     "data": {
      "text/plain": [
       "True"
      ]
     },
     "execution_count": 57,
     "metadata": {},
     "output_type": "execute_result"
    }
   ],
   "source": [
    "14.0 in menu.values()"
   ]
  },
  {
   "cell_type": "code",
   "execution_count": null,
   "id": "e7309751",
   "metadata": {},
   "outputs": [],
   "source": []
  }
 ],
 "metadata": {
  "kernelspec": {
   "display_name": "Python 3 (ipykernel)",
   "language": "python",
   "name": "python3"
  },
  "language_info": {
   "codemirror_mode": {
    "name": "ipython",
    "version": 3
   },
   "file_extension": ".py",
   "mimetype": "text/x-python",
   "name": "python",
   "nbconvert_exporter": "python",
   "pygments_lexer": "ipython3",
   "version": "3.9.6"
  }
 },
 "nbformat": 4,
 "nbformat_minor": 5
}
